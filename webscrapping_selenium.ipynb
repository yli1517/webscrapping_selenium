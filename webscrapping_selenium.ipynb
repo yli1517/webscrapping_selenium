{
 "cells": [
  {
   "cell_type": "code",
   "execution_count": 1,
   "metadata": {},
   "outputs": [],
   "source": [
    "from selenium import webdriver\n",
    "\n",
    "chrome_driver = r\"/Users/yl/Desktop//chromedriver\"\n",
    "\n",
    "driver = webdriver.Chrome(chrome_driver)"
   ]
  },
  {
   "cell_type": "code",
   "execution_count": 2,
   "metadata": {},
   "outputs": [],
   "source": [
    "from selenium import webdriver\n",
    "chrome_driver=r\"/Users/yl/Desktop//chromedriver\"\n",
    "    \n",
    "driver=webdriver.Chrome(chrome_driver)\n",
    "\n",
    "MAX_PAGE_NUM = 92\n",
    "\n",
    "with open('overview_1.csv', 'w') as f:\n",
    "    f.write(\"names, ratings, addresses, classes, types, grades, student_nums, st_ratios, districts, \\n\")\n",
    "    \n",
    "for i in range(1, MAX_PAGE_NUM + 1):\n",
    "    i = str(i)\n",
    "    url = \"https://www.greatschools.org/maryland/schools/?gradeLevels%5B%5D=e&gradeLevels%5B%5D=m&gradeLevels%5B%5D=h&page=\" + i + \"&sort=Economically_disadvantaged&tableView=Overview&view=table\"\n",
    "    \n",
    "    driver.get(url)\n",
    "    \n",
    "    names = driver.find_elements_by_xpath('//tbody//tr//td//a[@class=\"name\"]')\n",
    "    ratings = [i.find_element_by_xpath('div') for i in driver.find_elements_by_xpath('//tbody//tr//td//span[@class=\"tipso_style\"]')]\n",
    "    addresses = driver.find_elements_by_xpath('//tbody//tr//td//span//div[@class=\"address\"]')\n",
    "    classes = driver.find_elements_by_xpath('//tbody//tr//td//span//div[@class=\"scale\"]')\n",
    "    types = driver.find_elements_by_xpath('//tbody//tr//td[2]')\n",
    "    grades = driver.find_elements_by_xpath('//tbody/tr//td[3]')\n",
    "    student_nums = driver.find_elements_by_xpath('//tbody//tr//td[4]')\n",
    "    st_ratios = driver.find_elements_by_xpath('//tbody/tr//td[5]')\n",
    "    districts = driver.find_elements_by_xpath('//tbody/tr//td[7]')\n",
    "    \n",
    "    num_page_items = len(names)\n",
    "    with open('overview_1.csv', 'a') as f:\n",
    "        for i in range(num_page_items):\n",
    "            f.write(names[i].text + \",\" + ratings[i].text + \",\" + addresses[i].text + \",\" +\\\n",
    "                    classes[i].text + \",\" + types[i].text + \",\" + grades[i].text + \",\" +\\\n",
    "                    student_nums[i].text + \",\" + st_ratios[i].text + \",\" + districts[i].text + \"\\n\") \n",
    "        "
   ]
  }
 ],
 "metadata": {
  "kernelspec": {
   "display_name": "Python 3",
   "language": "python",
   "name": "python3"
  },
  "language_info": {
   "codemirror_mode": {
    "name": "ipython",
    "version": 3
   },
   "file_extension": ".py",
   "mimetype": "text/x-python",
   "name": "python",
   "nbconvert_exporter": "python",
   "pygments_lexer": "ipython3",
   "version": "3.7.3"
  }
 },
 "nbformat": 4,
 "nbformat_minor": 2
}
